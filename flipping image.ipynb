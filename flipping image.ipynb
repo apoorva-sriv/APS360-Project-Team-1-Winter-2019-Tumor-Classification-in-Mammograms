{
 "cells": [
  {
   "cell_type": "code",
   "execution_count": null,
   "metadata": {},
   "outputs": [],
   "source": [
    "import glob\n",
    "import cv2\n",
    "import matplotlib.pyplot as plt\n",
    "\n",
    "images = [cv2.imread(file) for file in glob.glob(r\"C:\\Users\\hp-pc\\PycharmProjects\\aps360\\project\\temp\\*.png\")]\n",
    "\n",
    "\n",
    "k=0\n",
    "name = 'Right_CC_'\n",
    "for img in images:\n",
    "    k = k+1\n",
    "    \n",
    "    # copy image to display all 4 variations\n",
    "    horizontal_img = img.copy()\n",
    "    #vertical_img = img.copy()\n",
    "    #both_img = img.copy()\n",
    "\n",
    "    # flip img horizontally, vertically,\n",
    "    # and both axes with flip()\n",
    "    #horizontal_img = cv2.flip( img, 0 )\n",
    "    horizontal_img = cv2.flip( img, 1 )\n",
    "    #both_img = cv2.flip( img, -1 )\n",
    "\n",
    "    # display the images on screen with imshow()\n",
    "    cv2.imshow( \"Original\", img )\n",
    "    cv2.imshow( \"Horizontal flip\", horizontal_img )\n",
    "    #cv2.imshow( \"Vertical flip\", vertical_img )\n",
    "    #cv2.imshow( \"Both flip\", both_img )\n",
    "\n",
    "\n",
    "    # wait time in milliseconds\n",
    "    # this is required to show the image\n",
    "    # 0 = wait indefinitely\n",
    "    \n",
    "    name = name + str(k)\n",
    "    plt.imsave(name,horizontal_img)\n",
    "    name = 'Right_CC_'\n",
    "    \n",
    "    \n",
    "    # close the windows\n",
    "    cv2.destroyAllWindows()"
   ]
  }
 ],
 "metadata": {
  "kernelspec": {
   "display_name": "Python 3",
   "language": "python",
   "name": "python3"
  },
  "language_info": {
   "codemirror_mode": {
    "name": "ipython",
    "version": 3
   },
   "file_extension": ".py",
   "mimetype": "text/x-python",
   "name": "python",
   "nbconvert_exporter": "python",
   "pygments_lexer": "ipython3",
   "version": "3.6.7"
  }
 },
 "nbformat": 4,
 "nbformat_minor": 2
}
