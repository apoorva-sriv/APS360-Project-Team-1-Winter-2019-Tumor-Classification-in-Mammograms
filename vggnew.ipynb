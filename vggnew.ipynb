{
  "nbformat": 4,
  "nbformat_minor": 0,
  "metadata": {
    "colab": {
      "name": "vggnew.ipynb",
      "version": "0.3.2",
      "provenance": [],
      "collapsed_sections": [],
      "include_colab_link": true
    },
    "kernelspec": {
      "name": "python3",
      "display_name": "Python 3"
    },
    "accelerator": "GPU"
  },
  "cells": [
    {
      "cell_type": "markdown",
      "metadata": {
        "id": "view-in-github",
        "colab_type": "text"
      },
      "source": [
        "<a href=\"https://colab.research.google.com/github/apoorva2398/APS360-Project-Team-1-Winter-2019/blob/master/vggnew.ipynb\" target=\"_parent\"><img src=\"https://colab.research.google.com/assets/colab-badge.svg\" alt=\"Open In Colab\"/></a>"
      ]
    },
    {
      "metadata": {
        "id": "_YKI5zFCwBQI",
        "colab_type": "code",
        "colab": {}
      },
      "cell_type": "code",
      "source": [
        ""
      ],
      "execution_count": 0,
      "outputs": []
    },
    {
      "metadata": {
        "id": "MEO5IF0QwBQN",
        "colab_type": "code",
        "colab": {}
      },
      "cell_type": "code",
      "source": [
        "# Some parts of the code takn from transfer learning tutorial on pytorch website\n",
        "\n",
        "from __future__ import print_function, division\n",
        "\n",
        "import torch\n",
        "import torch.nn as nn\n",
        "import torch.optim as optim\n",
        "from torch.optim import lr_scheduler\n",
        "import numpy as np\n",
        "import torchvision\n",
        "from torchvision import datasets, models, transforms\n",
        "import matplotlib.pyplot as plt\n",
        "import time\n",
        "import os\n",
        "import copy\n",
        "\n",
        "plt.ion()   # interactive mode"
      ],
      "execution_count": 0,
      "outputs": []
    },
    {
      "metadata": {
        "id": "LAi7ep7mwQmD",
        "colab_type": "code",
        "outputId": "f71f7a9c-16ad-445e-fdca-01ea961b65c9",
        "colab": {
          "base_uri": "https://localhost:8080/",
          "height": 34
        }
      },
      "cell_type": "code",
      "source": [
        "from google.colab import drive\n",
        "drive.mount('/content/gdrive')"
      ],
      "execution_count": 0,
      "outputs": [
        {
          "output_type": "stream",
          "text": [
            "Drive already mounted at /content/gdrive; to attempt to forcibly remount, call drive.mount(\"/content/gdrive\", force_remount=True).\n"
          ],
          "name": "stdout"
        }
      ]
    },
    {
      "metadata": {
        "id": "pGJ0Ru8QwBQQ",
        "colab_type": "code",
        "colab": {}
      },
      "cell_type": "code",
      "source": [
        "# Data augmentation and normalization for training\n",
        "# Just normalization for validation\n",
        "data_transforms = {\n",
        "    'train': transforms.Compose([\n",
        "        transforms.ToTensor(),\n",
        "    ]),\n",
        "    'validation': transforms.Compose([\n",
        "        transforms.ToTensor(),\n",
        "    ]),\n",
        "}\n",
        "\n",
        "data_dir = '/content/gdrive/My Drive/APS360 Project Shared Folder/Data/Cropped ROI Data/data (resized to 224 x 224 x 3, two classes, tif)'\n",
        "image_datasets = {x: datasets.ImageFolder(os.path.join(data_dir, x),\n",
        "                                          data_transforms[x])\n",
        "                  for x in ['train', 'validation']}\n",
        "dataloaders = {x: torch.utils.data.DataLoader(image_datasets[x], batch_size=4,\n",
        "                                             shuffle=True, num_workers=4)\n",
        "              for x in ['train', 'validation']}\n",
        "dataset_sizes = {x: len(image_datasets[x]) for x in ['train', 'validation']}\n",
        "class_names = image_datasets['train'].classes\n",
        "\n",
        "device = torch.device(\"cuda:0\" if torch.cuda.is_available() else \"cpu\")"
      ],
      "execution_count": 0,
      "outputs": []
    },
    {
      "metadata": {
        "id": "YAJWWEwZwBQT",
        "colab_type": "text"
      },
      "cell_type": "markdown",
      "source": [
        "Visualize a few images\n",
        "^^^^^^^^^^^^^^^^^^^^^^\n",
        "Let's visualize a few training images so as to understand the data\n",
        "augmentations.\n",
        "\n"
      ]
    },
    {
      "metadata": {
        "id": "fCuB9o3ewBQU",
        "colab_type": "code",
        "outputId": "bb727cff-b0e6-4ece-9138-44b2611931e1",
        "colab": {
          "base_uri": "https://localhost:8080/",
          "height": 175
        }
      },
      "cell_type": "code",
      "source": [
        "def imshow(inp, title=None):\n",
        "    \"\"\"Imshow for Tensor.\"\"\"\n",
        "    inp = inp.numpy().transpose((1, 2, 0))\n",
        "    mean = np.array([0.485, 0.456, 0.406])\n",
        "    std = np.array([0.229, 0.224, 0.225])\n",
        "    inp = std * inp + mean\n",
        "    inp = np.clip(inp, 0, 1)\n",
        "    plt.imshow(inp)\n",
        "    if title is not None:\n",
        "        plt.title(title)\n",
        "    plt.pause(0.001)  # pause a bit so that plots are updated\n",
        "\n",
        "\n",
        "# Get a batch of training data\n",
        "inputs, classes = next(iter(dataloaders['train']))\n",
        "\n",
        "# Make a grid from batch\n",
        "out = torchvision.utils.make_grid(inputs)\n",
        "\n",
        "imshow(out, title=[class_names[x] for x in classes])"
      ],
      "execution_count": 0,
      "outputs": [
        {
          "output_type": "display_data",
          "data": {
            "image/png": "[encoded data removed]",
            "text/plain": [
              "<Figure size 576x396 with 1 Axes>"
            ]
          },
          "metadata": {
            "tags": []
          }
        }
      ]
    },
    {
      "metadata": {
        "id": "h1CUFuMawBQZ",
        "colab_type": "code",
        "colab": {}
      },
      "cell_type": "code",
      "source": [
        "def train_model(model, criterion, optimizer, scheduler, num_epochs=25):\n",
        "    since = time.time()\n",
        "\n",
        "    best_model_wts = copy.deepcopy(model.state_dict())\n",
        "    best_acc = 0.0\n",
        "\n",
        "    for epoch in range(num_epochs):\n",
        "        print('Epoch {}/{}'.format(epoch, num_epochs - 1))\n",
        "        print('-' * 10)\n",
        "\n",
        "        # Each epoch has a training and validation phase\n",
        "        for phase in ['train', 'validation']:\n",
        "            if phase == 'train':\n",
        "                scheduler.step()\n",
        "                model.train()  # Set model to training mode\n",
        "            else:\n",
        "                model.eval()   # Set model to evaluate mode\n",
        "\n",
        "            running_loss = 0.0\n",
        "            running_corrects = 0\n",
        "\n",
        "            # Iterate over data.\n",
        "            for inputs, labels in dataloaders[phase]:\n",
        "                inputs = inputs.to(device)\n",
        "                labels = labels.to(device)\n",
        "\n",
        "                # zero the parameter gradients\n",
        "                optimizer.zero_grad()\n",
        "\n",
        "                # forward\n",
        "                # track history if only in train\n",
        "                with torch.set_grad_enabled(phase == 'train'):\n",
        "                    outputs = model(inputs)\n",
        "                    _, preds = torch.max(outputs, 1)\n",
        "                    loss = criterion(outputs, labels)\n",
        "\n",
        "                    # backward + optimize only if in training phase\n",
        "                    if phase == 'train':\n",
        "                        loss.backward()\n",
        "                        optimizer.step()\n",
        "\n",
        "                # statistics\n",
        "                running_loss += loss.item() * inputs.size(0)\n",
        "                running_corrects += torch.sum(preds == labels.data)\n",
        "\n",
        "            epoch_loss = running_loss / dataset_sizes[phase]\n",
        "            epoch_acc = running_corrects.double() / dataset_sizes[phase]\n",
        "\n",
        "            print('{} Loss: {:.4f} Acc: {:.4f}'.format(\n",
        "                phase, epoch_loss, epoch_acc))\n",
        "\n",
        "            # deep copy the model\n",
        "            if phase == 'val' and epoch_acc > best_acc:\n",
        "                best_acc = epoch_acc\n",
        "                best_model_wts = copy.deepcopy(model.state_dict())\n",
        "\n",
        "        print()\n",
        "\n",
        "    time_elapsed = time.time() - since\n",
        "    print('Training complete in {:.0f}m {:.0f}s'.format(\n",
        "        time_elapsed // 60, time_elapsed % 60))\n",
        "    print('Best val Acc: {:4f}'.format(best_acc))\n",
        "\n",
        "    # load best model weights\n",
        "    model.load_state_dict(best_model_wts)\n",
        "    return model"
      ],
      "execution_count": 0,
      "outputs": []
    },
    {
      "metadata": {
        "id": "1bffS8DXwBQd",
        "colab_type": "code",
        "colab": {}
      },
      "cell_type": "code",
      "source": [
        "def visualize_model(model, num_images=6):\n",
        "    was_training = model.training\n",
        "    model.eval()\n",
        "    images_so_far = 0\n",
        "    fig = plt.figure()\n",
        "\n",
        "    with torch.no_grad():\n",
        "        for i, (inputs, labels) in enumerate(dataloaders['validation']):\n",
        "            inputs = inputs.to(device)\n",
        "            labels = labels.to(device)\n",
        "\n",
        "            outputs = model(inputs)\n",
        "            _, preds = torch.max(outputs, 1)\n",
        "\n",
        "            for j in range(inputs.size()[0]):\n",
        "                images_so_far += 1\n",
        "                ax = plt.subplot(num_images//2, 2, images_so_far)\n",
        "                ax.axis('off')\n",
        "                ax.set_title('predicted: {}'.format(class_names[preds[j]]))\n",
        "                imshow(inputs.cpu().data[j])\n",
        "\n",
        "                if images_so_far == num_images:\n",
        "                    model.train(mode=was_training)\n",
        "                    return\n",
        "        model.train(mode=was_training)"
      ],
      "execution_count": 0,
      "outputs": []
    },
    {
      "metadata": {
        "id": "XFCJ9DHvwBQg",
        "colab_type": "text"
      },
      "cell_type": "markdown",
      "source": [
        "Finetuning the convnet\n",
        "----------------------\n",
        "\n",
        "Load a pretrained model and reset final fully connected layer.\n",
        "\n",
        "\n"
      ]
    },
    {
      "metadata": {
        "id": "5GeUHJeZwBQh",
        "colab_type": "code",
        "outputId": "3fd2e478-e38d-4810-a5c5-c4763feb6d45",
        "colab": {
          "base_uri": "https://localhost:8080/",
          "height": 50
        }
      },
      "cell_type": "code",
      "source": [
        "model_ft = models.resnet18(pretrained=True)\n",
        "num_ftrs = model_ft.fc.in_features\n",
        "model_ft.fc = nn.Linear(num_ftrs, 2)\n",
        "\n",
        "model_ft = model_ft.to(device)\n",
        "\n",
        "criterion = nn.CrossEntropyLoss()\n",
        "\n",
        "# Observe that all parameters are being optimized\n",
        "optimizer_ft = optim.SGD(model_ft.parameters(), lr=0.001, momentum=0.9)\n",
        "\n",
        "# Decay LR by a factor of 0.1 every 7 epochs\n",
        "exp_lr_scheduler = lr_scheduler.StepLR(optimizer_ft, step_size=7, gamma=0.1)"
      ],
      "execution_count": 0,
      "outputs": [
        {
          "output_type": "stream",
          "text": [
            "Downloading: \"https://download.pytorch.org/models/resnet18-5c106cde.pth\" to /root/.torch/models/resnet18-5c106cde.pth\n",
            "46827520it [00:00, 88916881.15it/s]\n"
          ],
          "name": "stderr"
        }
      ]
    },
    {
      "metadata": {
        "id": "kY3aBUofwBQl",
        "colab_type": "text"
      },
      "cell_type": "markdown",
      "source": [
        "Train and evaluate\n",
        "^^^^^^^^^^^^^^^^^^\n",
        "\n",
        "It should take around 15-25 min on CPU. On GPU though, it takes less than a\n",
        "minute.\n",
        "\n",
        "\n"
      ]
    },
    {
      "metadata": {
        "id": "NwbRjthYwBQn",
        "colab_type": "code",
        "outputId": "8ab299cc-0d3b-434a-c60f-3a41c90e5f75",
        "colab": {
          "base_uri": "https://localhost:8080/",
          "height": 330
        }
      },
      "cell_type": "code",
      "source": [
        "model_ft = train_model(model_ft, criterion, optimizer_ft, exp_lr_scheduler,\n",
        "                       num_epochs=25)"
      ],
      "execution_count": 0,
      "outputs": [
        {
          "output_type": "stream",
          "text": [
            "Epoch 0/24\n",
            "----------\n"
          ],
          "name": "stdout"
        },
        {
          "output_type": "error",
          "ename": "KeyboardInterrupt",
          "evalue": "ignored",
          "traceback": [
            "\u001b[0;31m---------------------------------------------------------------------------\u001b[0m",
            "\u001b[0;31mKeyboardInterrupt\u001b[0m                         Traceback (most recent call last)",
            "\u001b[0;32m<ipython-input-9-cc88ea5f8bd3>\u001b[0m in \u001b[0;36m<module>\u001b[0;34m()\u001b[0m\n\u001b[1;32m      1\u001b[0m model_ft = train_model(model_ft, criterion, optimizer_ft, exp_lr_scheduler,\n\u001b[0;32m----> 2\u001b[0;31m                        num_epochs=25)\n\u001b[0m",
            "\u001b[0;32m<ipython-input-6-c8daabfaf720>\u001b[0m in \u001b[0;36mtrain_model\u001b[0;34m(model, criterion, optimizer, scheduler, num_epochs)\u001b[0m\n\u001b[1;32m     41\u001b[0m \u001b[0;34m\u001b[0m\u001b[0m\n\u001b[1;32m     42\u001b[0m                 \u001b[0;31m# statistics\u001b[0m\u001b[0;34m\u001b[0m\u001b[0;34m\u001b[0m\u001b[0;34m\u001b[0m\u001b[0m\n\u001b[0;32m---> 43\u001b[0;31m                 \u001b[0mrunning_loss\u001b[0m \u001b[0;34m+=\u001b[0m \u001b[0mloss\u001b[0m\u001b[0;34m.\u001b[0m\u001b[0mitem\u001b[0m\u001b[0;34m(\u001b[0m\u001b[0;34m)\u001b[0m \u001b[0;34m*\u001b[0m \u001b[0minputs\u001b[0m\u001b[0;34m.\u001b[0m\u001b[0msize\u001b[0m\u001b[0;34m(\u001b[0m\u001b[0;36m0\u001b[0m\u001b[0;34m)\u001b[0m\u001b[0;34m\u001b[0m\u001b[0;34m\u001b[0m\u001b[0m\n\u001b[0m\u001b[1;32m     44\u001b[0m                 \u001b[0mrunning_corrects\u001b[0m \u001b[0;34m+=\u001b[0m \u001b[0mtorch\u001b[0m\u001b[0;34m.\u001b[0m\u001b[0msum\u001b[0m\u001b[0;34m(\u001b[0m\u001b[0mpreds\u001b[0m \u001b[0;34m==\u001b[0m \u001b[0mlabels\u001b[0m\u001b[0;34m.\u001b[0m\u001b[0mdata\u001b[0m\u001b[0;34m)\u001b[0m\u001b[0;34m\u001b[0m\u001b[0;34m\u001b[0m\u001b[0m\n\u001b[1;32m     45\u001b[0m \u001b[0;34m\u001b[0m\u001b[0m\n",
            "\u001b[0;31mKeyboardInterrupt\u001b[0m: "
          ]
        }
      ]
    },
    {
      "metadata": {
        "id": "qOPZSDxHwBQq",
        "colab_type": "code",
        "colab": {}
      },
      "cell_type": "code",
      "source": [
        "visualize_model(model_ft)"
      ],
      "execution_count": 0,
      "outputs": []
    },
    {
      "metadata": {
        "id": "ksWQbEDowBQt",
        "colab_type": "text"
      },
      "cell_type": "markdown",
      "source": [
        "ConvNet as fixed feature extractor\n",
        "----------------------------------\n",
        "\n",
        "Here, we need to freeze all the network except the final layer. We need\n",
        "to set ``requires_grad == False`` to freeze the parameters so that the\n",
        "gradients are not computed in ``backward()``.\n",
        "\n",
        "You can read more about this in the documentation\n",
        "`here <https://pytorch.org/docs/notes/autograd.html#excluding-subgraphs-from-backward>`__.\n",
        "\n",
        "\n"
      ]
    },
    {
      "metadata": {
        "id": "lZrBGwjgwBQu",
        "colab_type": "code",
        "colab": {}
      },
      "cell_type": "code",
      "source": [
        "model_conv = models.resnet18(pretrained=True)\n",
        "for param in model_conv.parameters():\n",
        "    param.requires_grad = False\n",
        "\n",
        "# Parameters of newly constructed modules have requires_grad=True by default\n",
        "num_ftrs = model_conv.fc.in_features\n",
        "model_conv.fc = nn.Linear(num_ftrs, 2)\n",
        "\n",
        "model_conv = model_conv.to(device)\n",
        "\n",
        "criterion = nn.CrossEntropyLoss()\n",
        "\n",
        "# Observe that only parameters of final layer are being optimized as\n",
        "# opposed to before.\n",
        "optimizer_conv = optim.SGD(model_conv.fc.parameters(), lr=0.001, momentum=0.9)\n",
        "\n",
        "# Decay LR by a factor of 0.1 every 7 epochs\n",
        "exp_lr_scheduler = lr_scheduler.StepLR(optimizer_conv, step_size=7, gamma=0.1)"
      ],
      "execution_count": 0,
      "outputs": []
    },
    {
      "metadata": {
        "id": "_xPbp3lewBQw",
        "colab_type": "text"
      },
      "cell_type": "markdown",
      "source": [
        "Train and evaluate\n",
        "^^^^^^^^^^^^^^^^^^\n",
        "\n",
        "On CPU this will take about half the time compared to previous scenario.\n",
        "This is expected as gradients don't need to be computed for most of the\n",
        "network. However, forward does need to be computed.\n",
        "\n",
        "\n"
      ]
    },
    {
      "metadata": {
        "id": "CrunqwYxwBQx",
        "colab_type": "code",
        "colab": {}
      },
      "cell_type": "code",
      "source": [
        "model_conv = train_model(model_conv, criterion, optimizer_conv,\n",
        "                         exp_lr_scheduler, num_epochs=25)"
      ],
      "execution_count": 0,
      "outputs": []
    },
    {
      "metadata": {
        "id": "aGGp96kfwBQ0",
        "colab_type": "code",
        "colab": {}
      },
      "cell_type": "code",
      "source": [
        "visualize_model(model_conv)\n",
        "\n",
        "plt.ioff()\n",
        "plt.show()"
      ],
      "execution_count": 0,
      "outputs": []
    },
    {
      "metadata": {
        "id": "YuiQJ15A-ZLf",
        "colab_type": "code",
        "colab": {}
      },
      "cell_type": "code",
      "source": [
        ""
      ],
      "execution_count": 0,
      "outputs": []
    },
    {
      "metadata": {
        "id": "v8Vl7paO-ZNy",
        "colab_type": "code",
        "colab": {}
      },
      "cell_type": "code",
      "source": [
        ""
      ],
      "execution_count": 0,
      "outputs": []
    },
    {
      "metadata": {
        "id": "aD-j6nBx-ZP-",
        "colab_type": "code",
        "colab": {}
      },
      "cell_type": "code",
      "source": [
        ""
      ],
      "execution_count": 0,
      "outputs": []
    },
    {
      "metadata": {
        "id": "TmOKIF7z-ZSW",
        "colab_type": "code",
        "colab": {}
      },
      "cell_type": "code",
      "source": [
        ""
      ],
      "execution_count": 0,
      "outputs": []
    },
    {
      "metadata": {
        "id": "ZPFkOK_n-ZX_",
        "colab_type": "code",
        "colab": {}
      },
      "cell_type": "code",
      "source": [
        "models.vgg16(pretrained=True)"
      ],
      "execution_count": 0,
      "outputs": []
    },
    {
      "metadata": {
        "id": "xspsgHRFybTa",
        "colab_type": "code",
        "colab": {}
      },
      "cell_type": "code",
      "source": [
        "vgg = models.vgg16(pretrained=True)\n",
        "for param in vgg.parameters():\n",
        "    param.requires_grad = False\n",
        "\n",
        "# Parameters of newly constructed modules have requires_grad=True by default\n",
        "\n",
        "vgg.classifier = nn.Linear(25088, 2)\n",
        "\n",
        "vgg = vgg.to(device)\n",
        "\n",
        "criterion = nn.CrossEntropyLoss()\n",
        "\n",
        "# Observe that only parameters of final layer are being optimized as\n",
        "# opposed to before.\n",
        "optimizer_vgg = optim.SGD(vgg.classifier.parameters(), lr=0.001, momentum=0.9)\n",
        "\n",
        "# Decay LR by a factor of 0.1 every 7 epochs\n",
        "exp_lr_scheduler = lr_scheduler.StepLR(optimizer_vgg, step_size=7, gamma=0.1)"
      ],
      "execution_count": 0,
      "outputs": []
    },
    {
      "metadata": {
        "id": "ub2RONPZybWk",
        "colab_type": "code",
        "outputId": "5c03190c-457a-49bb-ce37-46925666f8c7",
        "colab": {
          "base_uri": "https://localhost:8080/",
          "height": 330
        }
      },
      "cell_type": "code",
      "source": [
        "train_model(vgg, criterion, optimizer_vgg,\n",
        "                         exp_lr_scheduler, num_epochs=25)"
      ],
      "execution_count": 0,
      "outputs": [
        {
          "output_type": "stream",
          "text": [
            "Epoch 0/24\n",
            "----------\n"
          ],
          "name": "stdout"
        },
        {
          "output_type": "error",
          "ename": "KeyboardInterrupt",
          "evalue": "ignored",
          "traceback": [
            "\u001b[0;31m---------------------------------------------------------------------------\u001b[0m",
            "\u001b[0;31mKeyboardInterrupt\u001b[0m                         Traceback (most recent call last)",
            "\u001b[0;32m<ipython-input-9-b61fef4267de>\u001b[0m in \u001b[0;36m<module>\u001b[0;34m()\u001b[0m\n\u001b[1;32m      1\u001b[0m train_model(vgg, criterion, optimizer_vgg,\n\u001b[0;32m----> 2\u001b[0;31m                          exp_lr_scheduler, num_epochs=25)\n\u001b[0m",
            "\u001b[0;32m<ipython-input-6-c8daabfaf720>\u001b[0m in \u001b[0;36mtrain_model\u001b[0;34m(model, criterion, optimizer, scheduler, num_epochs)\u001b[0m\n\u001b[1;32m     41\u001b[0m \u001b[0;34m\u001b[0m\u001b[0m\n\u001b[1;32m     42\u001b[0m                 \u001b[0;31m# statistics\u001b[0m\u001b[0;34m\u001b[0m\u001b[0;34m\u001b[0m\u001b[0;34m\u001b[0m\u001b[0m\n\u001b[0;32m---> 43\u001b[0;31m                 \u001b[0mrunning_loss\u001b[0m \u001b[0;34m+=\u001b[0m \u001b[0mloss\u001b[0m\u001b[0;34m.\u001b[0m\u001b[0mitem\u001b[0m\u001b[0;34m(\u001b[0m\u001b[0;34m)\u001b[0m \u001b[0;34m*\u001b[0m \u001b[0minputs\u001b[0m\u001b[0;34m.\u001b[0m\u001b[0msize\u001b[0m\u001b[0;34m(\u001b[0m\u001b[0;36m0\u001b[0m\u001b[0;34m)\u001b[0m\u001b[0;34m\u001b[0m\u001b[0;34m\u001b[0m\u001b[0m\n\u001b[0m\u001b[1;32m     44\u001b[0m                 \u001b[0mrunning_corrects\u001b[0m \u001b[0;34m+=\u001b[0m \u001b[0mtorch\u001b[0m\u001b[0;34m.\u001b[0m\u001b[0msum\u001b[0m\u001b[0;34m(\u001b[0m\u001b[0mpreds\u001b[0m \u001b[0;34m==\u001b[0m \u001b[0mlabels\u001b[0m\u001b[0;34m.\u001b[0m\u001b[0mdata\u001b[0m\u001b[0;34m)\u001b[0m\u001b[0;34m\u001b[0m\u001b[0;34m\u001b[0m\u001b[0m\n\u001b[1;32m     45\u001b[0m \u001b[0;34m\u001b[0m\u001b[0m\n",
            "\u001b[0;31mKeyboardInterrupt\u001b[0m: "
          ]
        }
      ]
    },
    {
      "metadata": {
        "id": "XizUqZA4L87H",
        "colab_type": "code",
        "colab": {}
      },
      "cell_type": "code",
      "source": [
        "visualize_model(vgg)\n",
        "\n",
        "plt.ioff()\n",
        "plt.show()"
      ],
      "execution_count": 0,
      "outputs": []
    },
    {
      "metadata": {
        "id": "AOaHJWXHtOKQ",
        "colab_type": "code",
        "colab": {}
      },
      "cell_type": "code",
      "source": [
        ""
      ],
      "execution_count": 0,
      "outputs": []
    },
    {
      "metadata": {
        "id": "41HsfxDEA9fr",
        "colab_type": "text"
      },
      "cell_type": "markdown",
      "source": [
        "Change loss function"
      ]
    },
    {
      "metadata": {
        "id": "Y4UDKZ03ybdj",
        "colab_type": "code",
        "colab": {}
      },
      "cell_type": "code",
      "source": [
        "vgg2 = models.vgg16(pretrained=True)\n",
        "for param in vgg2.parameters():\n",
        "    param.requires_grad = False\n",
        "\n",
        "# Parameters of newly constructed modules have requires_grad=True by default\n",
        "\n",
        "\n",
        "vgg2.classifier = nn.Sequential(\n",
        "                        nn.Linear(25088, 4096), #fully connected layer; input_size = 25088; output_size = 256\n",
        "                        nn.ReLU(), #ReLU activation\n",
        "                        nn.Dropout(0.5), # 40% dropout rate\n",
        "                        nn.Linear(4096, 2)) # log softmax to produce a probability \n",
        "                        \n",
        "\n",
        "                \n",
        "vgg2 = vgg2.to(device)\n",
        "\n",
        "criterion = nn.CrossEntropyLoss()\n",
        "\n",
        "# Observe that only parameters of final layer are being optimized as\n",
        "# opposed to before.\n",
        "optimizer_vgg2 = optim.SGD(vgg2.classifier.parameters(), lr=0.0001, momentum=0.9)\n",
        "\n",
        "# Decay LR by a factor of 0.1 every 7 epochs\n",
        "exp_lr_scheduler2 = lr_scheduler.StepLR(optimizer_vgg2, step_size=7, gamma=0.1)"
      ],
      "execution_count": 0,
      "outputs": []
    },
    {
      "metadata": {
        "id": "3vfq8c6gybba",
        "colab_type": "code",
        "outputId": "aadefab2-c6d3-4b10-96d8-9b4710733332",
        "colab": {
          "base_uri": "https://localhost:8080/",
          "height": 2016
        }
      },
      "cell_type": "code",
      "source": [
        "train_model(vgg2, criterion, optimizer_vgg2, exp_lr_scheduler2, num_epochs=15)"
      ],
      "execution_count": 0,
      "outputs": [
        {
          "output_type": "stream",
          "text": [
            "Epoch 0/14\n",
            "----------\n",
            "train Loss: 0.6043 Acc: 0.6560\n",
            "validation Loss: 0.6086 Acc: 0.6510\n",
            "\n",
            "Epoch 1/14\n",
            "----------\n",
            "train Loss: 0.5761 Acc: 0.6888\n",
            "validation Loss: 0.5977 Acc: 0.6684\n",
            "\n",
            "Epoch 2/14\n",
            "----------\n",
            "train Loss: 0.5596 Acc: 0.7014\n",
            "validation Loss: 0.5888 Acc: 0.6719\n",
            "\n",
            "Epoch 3/14\n",
            "----------\n",
            "train Loss: 0.5419 Acc: 0.7233\n",
            "validation Loss: 0.5916 Acc: 0.6597\n",
            "\n",
            "Epoch 4/14\n",
            "----------\n",
            "train Loss: 0.5304 Acc: 0.7302\n",
            "validation Loss: 0.5855 Acc: 0.6649\n",
            "\n",
            "Epoch 5/14\n",
            "----------\n",
            "train Loss: 0.5178 Acc: 0.7385\n",
            "validation Loss: 0.6088 Acc: 0.6614\n",
            "\n",
            "Epoch 6/14\n",
            "----------\n",
            "train Loss: 0.4909 Acc: 0.7538\n",
            "validation Loss: 0.5729 Acc: 0.6859\n",
            "\n",
            "Epoch 7/14\n",
            "----------\n",
            "train Loss: 0.4848 Acc: 0.7669\n",
            "validation Loss: 0.5710 Acc: 0.6824\n",
            "\n",
            "Epoch 8/14\n",
            "----------\n",
            "train Loss: 0.4855 Acc: 0.7717\n",
            "validation Loss: 0.5724 Acc: 0.6789\n",
            "\n",
            "Epoch 9/14\n",
            "----------\n",
            "train Loss: 0.4813 Acc: 0.7691\n",
            "validation Loss: 0.5707 Acc: 0.6894\n",
            "\n",
            "Epoch 10/14\n",
            "----------\n",
            "train Loss: 0.4827 Acc: 0.7643\n",
            "validation Loss: 0.5713 Acc: 0.6806\n",
            "\n",
            "Epoch 11/14\n",
            "----------\n",
            "train Loss: 0.4771 Acc: 0.7756\n",
            "validation Loss: 0.5689 Acc: 0.6911\n",
            "\n",
            "Epoch 12/14\n",
            "----------\n",
            "train Loss: 0.4757 Acc: 0.7756\n",
            "validation Loss: 0.5706 Acc: 0.6789\n",
            "\n",
            "Epoch 13/14\n",
            "----------\n",
            "train Loss: 0.4755 Acc: 0.7765\n",
            "validation Loss: 0.5689 Acc: 0.6824\n",
            "\n",
            "Epoch 14/14\n",
            "----------\n",
            "train Loss: 0.4747 Acc: 0.7669\n",
            "validation Loss: 0.5685 Acc: 0.6824\n",
            "\n",
            "Training complete in 23m 5s\n",
            "Best val Acc: 0.000000\n"
          ],
          "name": "stdout"
        },
        {
          "output_type": "execute_result",
          "data": {
            "text/plain": [
              "VGG(\n",
              "  (features): Sequential(\n",
              "    (0): Conv2d(3, 64, kernel_size=(3, 3), stride=(1, 1), padding=(1, 1))\n",
              "    (1): ReLU(inplace)\n",
              "    (2): Conv2d(64, 64, kernel_size=(3, 3), stride=(1, 1), padding=(1, 1))\n",
              "    (3): ReLU(inplace)\n",
              "    (4): MaxPool2d(kernel_size=2, stride=2, padding=0, dilation=1, ceil_mode=False)\n",
              "    (5): Conv2d(64, 128, kernel_size=(3, 3), stride=(1, 1), padding=(1, 1))\n",
              "    (6): ReLU(inplace)\n",
              "    (7): Conv2d(128, 128, kernel_size=(3, 3), stride=(1, 1), padding=(1, 1))\n",
              "    (8): ReLU(inplace)\n",
              "    (9): MaxPool2d(kernel_size=2, stride=2, padding=0, dilation=1, ceil_mode=False)\n",
              "    (10): Conv2d(128, 256, kernel_size=(3, 3), stride=(1, 1), padding=(1, 1))\n",
              "    (11): ReLU(inplace)\n",
              "    (12): Conv2d(256, 256, kernel_size=(3, 3), stride=(1, 1), padding=(1, 1))\n",
              "    (13): ReLU(inplace)\n",
              "    (14): Conv2d(256, 256, kernel_size=(3, 3), stride=(1, 1), padding=(1, 1))\n",
              "    (15): ReLU(inplace)\n",
              "    (16): MaxPool2d(kernel_size=2, stride=2, padding=0, dilation=1, ceil_mode=False)\n",
              "    (17): Conv2d(256, 512, kernel_size=(3, 3), stride=(1, 1), padding=(1, 1))\n",
              "    (18): ReLU(inplace)\n",
              "    (19): Conv2d(512, 512, kernel_size=(3, 3), stride=(1, 1), padding=(1, 1))\n",
              "    (20): ReLU(inplace)\n",
              "    (21): Conv2d(512, 512, kernel_size=(3, 3), stride=(1, 1), padding=(1, 1))\n",
              "    (22): ReLU(inplace)\n",
              "    (23): MaxPool2d(kernel_size=2, stride=2, padding=0, dilation=1, ceil_mode=False)\n",
              "    (24): Conv2d(512, 512, kernel_size=(3, 3), stride=(1, 1), padding=(1, 1))\n",
              "    (25): ReLU(inplace)\n",
              "    (26): Conv2d(512, 512, kernel_size=(3, 3), stride=(1, 1), padding=(1, 1))\n",
              "    (27): ReLU(inplace)\n",
              "    (28): Conv2d(512, 512, kernel_size=(3, 3), stride=(1, 1), padding=(1, 1))\n",
              "    (29): ReLU(inplace)\n",
              "    (30): MaxPool2d(kernel_size=2, stride=2, padding=0, dilation=1, ceil_mode=False)\n",
              "  )\n",
              "  (avgpool): AdaptiveAvgPool2d(output_size=(7, 7))\n",
              "  (classifier): Sequential(\n",
              "    (0): Linear(in_features=25088, out_features=4096, bias=True)\n",
              "    (1): ReLU()\n",
              "    (2): Dropout(p=0.5)\n",
              "    (3): Linear(in_features=4096, out_features=2, bias=True)\n",
              "  )\n",
              ")"
            ]
          },
          "metadata": {
            "tags": []
          },
          "execution_count": 13
        }
      ]
    },
    {
      "metadata": {
        "id": "Xsvz64Pl0Q2_",
        "colab_type": "code",
        "outputId": "4ebfe762-6b2f-4099-e576-27f73fb149d1",
        "colab": {
          "base_uri": "https://localhost:8080/",
          "height": 823
        }
      },
      "cell_type": "code",
      "source": [
        "visualize_model(vgg2)\n",
        "\n",
        "plt.ioff()\n",
        "plt.show()"
      ],
      "execution_count": 0,
      "outputs": [
        {
          "output_type": "display_data",
          "data": {
            "image/png": "[encoded data removed]",
            "text/plain": [
              "<Figure size 576x396 with 1 Axes>"
            ]
          },
          "metadata": {
            "tags": []
          }
        },
        {
          "output_type": "display_data",
          "data": {
            "image/png": "[encoded data removed]",
            "text/plain": [
              "<Figure size 576x396 with 1 Axes>"
            ]
          },
          "metadata": {
            "tags": []
          }
        },
        {
          "output_type": "display_data",
          "data": {
            "image/png": "[encoded data removed]",
            "text/plain": [
              "<Figure size 576x396 with 1 Axes>"
            ]
          },
          "metadata": {
            "tags": []
          }
        },
        {
          "output_type": "display_data",
          "data": {
            "image/png": "[encoded data removed]",
            "text/plain": [
              "<Figure size 576x396 with 1 Axes>"
            ]
          },
          "metadata": {
            "tags": []
          }
        },
        {
          "output_type": "display_data",
          "data": {
            "image/png": "[encoded data removed]",
            "text/plain": [
              "<Figure size 576x396 with 1 Axes>"
            ]
          },
          "metadata": {
            "tags": []
          }
        },
        {
          "output_type": "display_data",
          "data": {
            "image/png": "[encoded data removed]",
            "text/plain": [
              "<Figure size 576x396 with 1 Axes>"
            ]
          },
          "metadata": {
            "tags": []
          }
        }
      ]
    },
    {
      "metadata": {
        "id": "UQzwPvv-ybZZ",
        "colab_type": "code",
        "colab": {}
      },
      "cell_type": "code",
      "source": [
        "vgg3 = models.vgg16(pretrained=True)\n",
        "for param in vgg3.parameters():\n",
        "    param.requires_grad = False\n",
        "\n",
        "# Parameters of newly constructed modules have requires_grad=True by default\n",
        "\n",
        "\n",
        "vgg3.classifier = nn.Sequential(\n",
        "                        nn.Linear(25088, 4096), #fully connected layer; input_size = 25088; output_size = 256\n",
        "                        nn.ReLU(), #ReLU activation\n",
        "                        nn.Dropout(0.5), # 40% dropout rate\n",
        "                        nn.Linear(4096, 256),\n",
        "                        nn.ReLU(), #ReLU activation\n",
        "                        nn.Dropout(0.4), # 40% dropout rate\n",
        "                        nn.Linear(256, 2)) # log softmax to produce a probability \n",
        "                        \n",
        "\n",
        "                \n",
        "vgg3 = vgg3.to(device)\n",
        "\n",
        "criterion = nn.CrossEntropyLoss()\n",
        "\n",
        "# Observe that only parameters of final layer are being optimized as\n",
        "# opposed to before.\n",
        "optimizer_vgg3 = optim.SGD(vgg3.classifier.parameters(), lr=0.001, momentum=0.9)\n",
        "\n",
        "# Decay LR by a factor of 0.1 every 7 epochs\n",
        "exp_lr_scheduler3 = lr_scheduler.StepLR(optimizer_vgg3, step_size=7, gamma=0.1)"
      ],
      "execution_count": 0,
      "outputs": []
    },
    {
      "metadata": {
        "id": "xg42weYzi9dF",
        "colab_type": "code",
        "outputId": "05655920-0fcd-47a8-f392-32b86d641f1e",
        "colab": {
          "base_uri": "https://localhost:8080/",
          "height": 2486
        }
      },
      "cell_type": "code",
      "source": [
        "train_model(vgg3, criterion, optimizer_vgg3, exp_lr_scheduler3, num_epochs=20)"
      ],
      "execution_count": 0,
      "outputs": [
        {
          "output_type": "stream",
          "text": [
            "Epoch 0/19\n",
            "----------\n",
            "train Loss: 0.6482 Acc: 0.5989\n",
            "validation Loss: 0.6257 Acc: 0.6161\n",
            "\n",
            "Epoch 1/19\n",
            "----------\n",
            "train Loss: 0.6083 Acc: 0.6434\n",
            "validation Loss: 0.6607 Acc: 0.6073\n",
            "\n",
            "Epoch 2/19\n",
            "----------\n",
            "train Loss: 0.5854 Acc: 0.6787\n",
            "validation Loss: 0.5980 Acc: 0.6545\n",
            "\n",
            "Epoch 3/19\n",
            "----------\n",
            "train Loss: 0.5662 Acc: 0.6897\n",
            "validation Loss: 0.5794 Acc: 0.6754\n",
            "\n",
            "Epoch 4/19\n",
            "----------\n",
            "train Loss: 0.5533 Acc: 0.6914\n",
            "validation Loss: 0.5748 Acc: 0.6771\n",
            "\n",
            "Epoch 5/19\n",
            "----------\n",
            "train Loss: 0.5278 Acc: 0.7150\n",
            "validation Loss: 0.6785 Acc: 0.6492\n",
            "\n",
            "Epoch 6/19\n",
            "----------\n",
            "train Loss: 0.5251 Acc: 0.7167\n",
            "validation Loss: 0.5830 Acc: 0.6667\n",
            "\n",
            "Epoch 7/19\n",
            "----------\n",
            "train Loss: 0.4657 Acc: 0.7665\n",
            "validation Loss: 0.5829 Acc: 0.6736\n",
            "\n",
            "Epoch 8/19\n",
            "----------\n",
            "train Loss: 0.4490 Acc: 0.7778\n",
            "validation Loss: 0.5809 Acc: 0.6928\n",
            "\n",
            "Epoch 9/19\n",
            "----------\n",
            "train Loss: 0.4315 Acc: 0.7870\n",
            "validation Loss: 0.5897 Acc: 0.6859\n",
            "\n",
            "Epoch 10/19\n",
            "----------\n",
            "train Loss: 0.4184 Acc: 0.7975\n",
            "validation Loss: 0.5849 Acc: 0.6946\n",
            "\n",
            "Epoch 11/19\n",
            "----------\n",
            "train Loss: 0.4100 Acc: 0.7983\n",
            "validation Loss: 0.5894 Acc: 0.6894\n",
            "\n",
            "Epoch 12/19\n",
            "----------\n",
            "train Loss: 0.4048 Acc: 0.8018\n",
            "validation Loss: 0.5953 Acc: 0.6928\n",
            "\n",
            "Epoch 13/19\n",
            "----------\n",
            "train Loss: 0.3932 Acc: 0.8106\n",
            "validation Loss: 0.6032 Acc: 0.6911\n",
            "\n",
            "Epoch 14/19\n",
            "----------\n",
            "train Loss: 0.3786 Acc: 0.8093\n",
            "validation Loss: 0.5995 Acc: 0.6998\n",
            "\n",
            "Epoch 15/19\n",
            "----------\n",
            "train Loss: 0.3733 Acc: 0.8189\n",
            "validation Loss: 0.5988 Acc: 0.6998\n",
            "\n",
            "Epoch 16/19\n",
            "----------\n",
            "train Loss: 0.3749 Acc: 0.8167\n",
            "validation Loss: 0.6002 Acc: 0.6963\n",
            "\n",
            "Epoch 17/19\n",
            "----------\n",
            "train Loss: 0.3752 Acc: 0.8223\n",
            "validation Loss: 0.5998 Acc: 0.6981\n",
            "\n",
            "Epoch 18/19\n",
            "----------\n",
            "train Loss: 0.3675 Acc: 0.8302\n",
            "validation Loss: 0.6026 Acc: 0.6981\n",
            "\n",
            "Epoch 19/19\n",
            "----------\n",
            "train Loss: 0.3674 Acc: 0.8202\n",
            "validation Loss: 0.6026 Acc: 0.6998\n",
            "\n",
            "Training complete in 30m 37s\n",
            "Best val Acc: 0.000000\n"
          ],
          "name": "stdout"
        },
        {
          "output_type": "execute_result",
          "data": {
            "text/plain": [
              "VGG(\n",
              "  (features): Sequential(\n",
              "    (0): Conv2d(3, 64, kernel_size=(3, 3), stride=(1, 1), padding=(1, 1))\n",
              "    (1): ReLU(inplace)\n",
              "    (2): Conv2d(64, 64, kernel_size=(3, 3), stride=(1, 1), padding=(1, 1))\n",
              "    (3): ReLU(inplace)\n",
              "    (4): MaxPool2d(kernel_size=2, stride=2, padding=0, dilation=1, ceil_mode=False)\n",
              "    (5): Conv2d(64, 128, kernel_size=(3, 3), stride=(1, 1), padding=(1, 1))\n",
              "    (6): ReLU(inplace)\n",
              "    (7): Conv2d(128, 128, kernel_size=(3, 3), stride=(1, 1), padding=(1, 1))\n",
              "    (8): ReLU(inplace)\n",
              "    (9): MaxPool2d(kernel_size=2, stride=2, padding=0, dilation=1, ceil_mode=False)\n",
              "    (10): Conv2d(128, 256, kernel_size=(3, 3), stride=(1, 1), padding=(1, 1))\n",
              "    (11): ReLU(inplace)\n",
              "    (12): Conv2d(256, 256, kernel_size=(3, 3), stride=(1, 1), padding=(1, 1))\n",
              "    (13): ReLU(inplace)\n",
              "    (14): Conv2d(256, 256, kernel_size=(3, 3), stride=(1, 1), padding=(1, 1))\n",
              "    (15): ReLU(inplace)\n",
              "    (16): MaxPool2d(kernel_size=2, stride=2, padding=0, dilation=1, ceil_mode=False)\n",
              "    (17): Conv2d(256, 512, kernel_size=(3, 3), stride=(1, 1), padding=(1, 1))\n",
              "    (18): ReLU(inplace)\n",
              "    (19): Conv2d(512, 512, kernel_size=(3, 3), stride=(1, 1), padding=(1, 1))\n",
              "    (20): ReLU(inplace)\n",
              "    (21): Conv2d(512, 512, kernel_size=(3, 3), stride=(1, 1), padding=(1, 1))\n",
              "    (22): ReLU(inplace)\n",
              "    (23): MaxPool2d(kernel_size=2, stride=2, padding=0, dilation=1, ceil_mode=False)\n",
              "    (24): Conv2d(512, 512, kernel_size=(3, 3), stride=(1, 1), padding=(1, 1))\n",
              "    (25): ReLU(inplace)\n",
              "    (26): Conv2d(512, 512, kernel_size=(3, 3), stride=(1, 1), padding=(1, 1))\n",
              "    (27): ReLU(inplace)\n",
              "    (28): Conv2d(512, 512, kernel_size=(3, 3), stride=(1, 1), padding=(1, 1))\n",
              "    (29): ReLU(inplace)\n",
              "    (30): MaxPool2d(kernel_size=2, stride=2, padding=0, dilation=1, ceil_mode=False)\n",
              "  )\n",
              "  (avgpool): AdaptiveAvgPool2d(output_size=(7, 7))\n",
              "  (classifier): Sequential(\n",
              "    (0): Linear(in_features=25088, out_features=4096, bias=True)\n",
              "    (1): ReLU()\n",
              "    (2): Dropout(p=0.5)\n",
              "    (3): Linear(in_features=4096, out_features=256, bias=True)\n",
              "    (4): ReLU()\n",
              "    (5): Dropout(p=0.4)\n",
              "    (6): Linear(in_features=256, out_features=2, bias=True)\n",
              "  )\n",
              ")"
            ]
          },
          "metadata": {
            "tags": []
          },
          "execution_count": 19
        }
      ]
    },
    {
      "metadata": {
        "id": "hRxnSMCwBELB",
        "colab_type": "code",
        "outputId": "960bd4f2-16da-456e-9402-b7f936383696",
        "colab": {
          "base_uri": "https://localhost:8080/",
          "height": 2077
        }
      },
      "cell_type": "code",
      "source": [
        "train_model(vgg3, criterion, optimizer_vgg3, exp_lr_scheduler3, num_epochs=25)"
      ],
      "execution_count": 0,
      "outputs": [
        {
          "output_type": "stream",
          "text": [
            "Epoch 0/24\n",
            "----------\n",
            "train Loss: 0.6436 Acc: 0.6050\n",
            "validation Loss: 0.6328 Acc: 0.6003\n",
            "\n",
            "Epoch 1/24\n",
            "----------\n",
            "train Loss: 0.6124 Acc: 0.6464\n",
            "validation Loss: 0.6048 Acc: 0.6510\n",
            "\n",
            "Epoch 2/24\n",
            "----------\n",
            "train Loss: 0.5842 Acc: 0.6713\n",
            "validation Loss: 0.5968 Acc: 0.6597\n",
            "\n",
            "Epoch 3/24\n",
            "----------\n",
            "train Loss: 0.5698 Acc: 0.6918\n",
            "validation Loss: 0.5900 Acc: 0.6597\n",
            "\n",
            "Epoch 4/24\n",
            "----------\n",
            "train Loss: 0.5513 Acc: 0.6962\n",
            "validation Loss: 0.6082 Acc: 0.6370\n",
            "\n",
            "Epoch 5/24\n",
            "----------\n",
            "train Loss: 0.5268 Acc: 0.7102\n",
            "validation Loss: 0.6084 Acc: 0.6440\n",
            "\n",
            "Epoch 6/24\n",
            "----------\n",
            "train Loss: 0.5241 Acc: 0.7215\n",
            "validation Loss: 0.5660 Acc: 0.6946\n",
            "\n",
            "Epoch 7/24\n",
            "----------\n",
            "train Loss: 0.5089 Acc: 0.7228\n",
            "validation Loss: 0.5899 Acc: 0.6492\n",
            "\n",
            "Epoch 8/24\n",
            "----------\n",
            "train Loss: 0.4926 Acc: 0.7381\n",
            "validation Loss: 0.5742 Acc: 0.6859\n",
            "\n",
            "Epoch 9/24\n",
            "----------\n",
            "train Loss: 0.4767 Acc: 0.7529\n",
            "validation Loss: 0.6017 Acc: 0.6527\n",
            "\n",
            "Epoch 10/24\n",
            "----------\n",
            "train Loss: 0.4509 Acc: 0.7652\n",
            "validation Loss: 0.5637 Acc: 0.6841\n",
            "\n",
            "Epoch 11/24\n",
            "----------\n",
            "train Loss: 0.4581 Acc: 0.7639\n",
            "validation Loss: 0.5949 Acc: 0.7051\n",
            "\n",
            "Epoch 12/24\n",
            "----------\n",
            "train Loss: 0.4408 Acc: 0.7726\n",
            "validation Loss: 0.7032 Acc: 0.6562\n",
            "\n",
            "Epoch 13/24\n",
            "----------\n",
            "train Loss: 0.4258 Acc: 0.7743\n",
            "validation Loss: 0.7361 Acc: 0.5724\n",
            "\n",
            "Epoch 14/24\n",
            "----------\n",
            "train Loss: 0.4053 Acc: 0.7979\n",
            "validation Loss: 0.7139 Acc: 0.6736\n",
            "\n",
            "Epoch 15/24\n",
            "----------\n",
            "train Loss: 0.4179 Acc: 0.7870\n",
            "validation Loss: 0.7944 Acc: 0.6475\n",
            "\n",
            "Epoch 16/24\n",
            "----------\n",
            "train Loss: 0.3952 Acc: 0.8053\n",
            "validation Loss: 0.6514 Acc: 0.6754\n",
            "\n",
            "Epoch 17/24\n",
            "----------\n",
            "train Loss: 0.3907 Acc: 0.7997\n",
            "validation Loss: 1.0210 Acc: 0.5951\n",
            "\n",
            "Epoch 18/24\n",
            "----------\n",
            "train Loss: 0.3850 Acc: 0.8114\n",
            "validation Loss: 0.6968 Acc: 0.6510\n",
            "\n",
            "Epoch 19/24\n",
            "----------\n",
            "train Loss: 0.3550 Acc: 0.8223\n",
            "validation Loss: 0.6818 Acc: 0.6911\n",
            "\n",
            "Epoch 20/24\n",
            "----------\n",
            "train Loss: 0.3555 Acc: 0.8215\n",
            "validation Loss: 0.7777 Acc: 0.6632\n",
            "\n",
            "Epoch 21/24\n",
            "----------\n"
          ],
          "name": "stdout"
        },
        {
          "output_type": "error",
          "ename": "KeyboardInterrupt",
          "evalue": "ignored",
          "traceback": [
            "\u001b[0;31m---------------------------------------------------------------------------\u001b[0m",
            "\u001b[0;31mKeyboardInterrupt\u001b[0m                         Traceback (most recent call last)",
            "\u001b[0;32m<ipython-input-11-8839ecabb0de>\u001b[0m in \u001b[0;36m<module>\u001b[0;34m()\u001b[0m\n\u001b[0;32m----> 1\u001b[0;31m \u001b[0mtrain_model\u001b[0m\u001b[0;34m(\u001b[0m\u001b[0mvgg3\u001b[0m\u001b[0;34m,\u001b[0m \u001b[0mcriterion\u001b[0m\u001b[0;34m,\u001b[0m \u001b[0moptimizer_vgg3\u001b[0m\u001b[0;34m,\u001b[0m \u001b[0mexp_lr_scheduler2\u001b[0m\u001b[0;34m,\u001b[0m \u001b[0mnum_epochs\u001b[0m\u001b[0;34m=\u001b[0m\u001b[0;36m25\u001b[0m\u001b[0;34m)\u001b[0m\u001b[0;34m\u001b[0m\u001b[0;34m\u001b[0m\u001b[0m\n\u001b[0m",
            "\u001b[0;32m<ipython-input-5-c8daabfaf720>\u001b[0m in \u001b[0;36mtrain_model\u001b[0;34m(model, criterion, optimizer, scheduler, num_epochs)\u001b[0m\n\u001b[1;32m     41\u001b[0m \u001b[0;34m\u001b[0m\u001b[0m\n\u001b[1;32m     42\u001b[0m                 \u001b[0;31m# statistics\u001b[0m\u001b[0;34m\u001b[0m\u001b[0;34m\u001b[0m\u001b[0;34m\u001b[0m\u001b[0m\n\u001b[0;32m---> 43\u001b[0;31m                 \u001b[0mrunning_loss\u001b[0m \u001b[0;34m+=\u001b[0m \u001b[0mloss\u001b[0m\u001b[0;34m.\u001b[0m\u001b[0mitem\u001b[0m\u001b[0;34m(\u001b[0m\u001b[0;34m)\u001b[0m \u001b[0;34m*\u001b[0m \u001b[0minputs\u001b[0m\u001b[0;34m.\u001b[0m\u001b[0msize\u001b[0m\u001b[0;34m(\u001b[0m\u001b[0;36m0\u001b[0m\u001b[0;34m)\u001b[0m\u001b[0;34m\u001b[0m\u001b[0;34m\u001b[0m\u001b[0m\n\u001b[0m\u001b[1;32m     44\u001b[0m                 \u001b[0mrunning_corrects\u001b[0m \u001b[0;34m+=\u001b[0m \u001b[0mtorch\u001b[0m\u001b[0;34m.\u001b[0m\u001b[0msum\u001b[0m\u001b[0;34m(\u001b[0m\u001b[0mpreds\u001b[0m \u001b[0;34m==\u001b[0m \u001b[0mlabels\u001b[0m\u001b[0;34m.\u001b[0m\u001b[0mdata\u001b[0m\u001b[0;34m)\u001b[0m\u001b[0;34m\u001b[0m\u001b[0;34m\u001b[0m\u001b[0m\n\u001b[1;32m     45\u001b[0m \u001b[0;34m\u001b[0m\u001b[0m\n",
            "\u001b[0;31mKeyboardInterrupt\u001b[0m: "
          ]
        }
      ]
    },
    {
      "metadata": {
        "id": "ffBxqItrBENK",
        "colab_type": "code",
        "colab": {}
      },
      "cell_type": "code",
      "source": [
        "vgg4 = models.vgg16(pretrained=True)\n",
        "for param in vgg4.parameters():\n",
        "    param.requires_grad = False\n",
        "\n",
        "# Parameters of newly constructed modules have requires_grad=True by default\n",
        "\n",
        "\n",
        "vgg4.classifier = nn.Sequential(\n",
        "                        nn.Linear(25088, 4096), #fully connected layer; input_size = 25088; output_size = 256\n",
        "                        nn.ReLU(), #ReLU activation\n",
        "                        nn.Linear(4096, 256),\n",
        "                        nn.ReLU(), #ReLU activation\n",
        "                        nn.Linear(256, 2)) # log softmax to produce a probability \n",
        "                        \n",
        "\n",
        "                \n",
        "vgg4 = vgg4.to(device)\n",
        "\n",
        "criterion = nn.CrossEntropyLoss()\n",
        "\n",
        "# Observe that only parameters of final layer are being optimized as\n",
        "# opposed to before.\n",
        "optimizer_vgg4 = optim.SGD(vgg4.classifier.parameters(), lr=0.001, momentum=0.9)\n",
        "\n",
        "# Decay LR by a factor of 0.1 every 7 epochs\n",
        "exp_lr_scheduler4 = lr_scheduler.StepLR(optimizer_vgg4, step_size=7, gamma=0.1)"
      ],
      "execution_count": 0,
      "outputs": []
    },
    {
      "metadata": {
        "id": "1VjlZ_ZbBERx",
        "colab_type": "code",
        "outputId": "71c9d9af-2e4f-4b36-fc3d-fb920b568578",
        "colab": {
          "base_uri": "https://localhost:8080/",
          "height": 985
        }
      },
      "cell_type": "code",
      "source": [
        "train_model(vgg4, criterion, optimizer_vgg4, exp_lr_scheduler4, num_epochs=25)"
      ],
      "execution_count": 0,
      "outputs": [
        {
          "output_type": "stream",
          "text": [
            "Epoch 0/24\n",
            "----------\n",
            "train Loss: 0.6307 Acc: 0.6181\n",
            "validation Loss: 0.6145 Acc: 0.6597\n",
            "\n",
            "Epoch 1/24\n",
            "----------\n",
            "train Loss: 0.5796 Acc: 0.6761\n",
            "validation Loss: 0.5899 Acc: 0.6754\n",
            "\n",
            "Epoch 2/24\n",
            "----------\n",
            "train Loss: 0.5380 Acc: 0.7041\n",
            "validation Loss: 0.6416 Acc: 0.6475\n",
            "\n",
            "Epoch 3/24\n",
            "----------\n",
            "train Loss: 0.5053 Acc: 0.7460\n",
            "validation Loss: 0.5763 Acc: 0.6824\n",
            "\n",
            "Epoch 4/24\n",
            "----------\n",
            "train Loss: 0.4731 Acc: 0.7647\n",
            "validation Loss: 0.5728 Acc: 0.6824\n",
            "\n",
            "Epoch 5/24\n",
            "----------\n",
            "train Loss: 0.4375 Acc: 0.7783\n",
            "validation Loss: 0.5662 Acc: 0.7051\n",
            "\n",
            "Epoch 6/24\n",
            "----------\n",
            "train Loss: 0.4065 Acc: 0.8027\n",
            "validation Loss: 0.7853 Acc: 0.6649\n",
            "\n",
            "Epoch 7/24\n",
            "----------\n",
            "train Loss: 0.2943 Acc: 0.8708\n",
            "validation Loss: 0.6281 Acc: 0.6981\n",
            "\n",
            "Epoch 8/24\n",
            "----------\n"
          ],
          "name": "stdout"
        },
        {
          "output_type": "error",
          "ename": "KeyboardInterrupt",
          "evalue": "ignored",
          "traceback": [
            "\u001b[0;31m---------------------------------------------------------------------------\u001b[0m",
            "\u001b[0;31mKeyboardInterrupt\u001b[0m                         Traceback (most recent call last)",
            "\u001b[0;32m<ipython-input-12-d750ec3d71fb>\u001b[0m in \u001b[0;36m<module>\u001b[0;34m()\u001b[0m\n\u001b[0;32m----> 1\u001b[0;31m \u001b[0mtrain_model\u001b[0m\u001b[0;34m(\u001b[0m\u001b[0mvgg4\u001b[0m\u001b[0;34m,\u001b[0m \u001b[0mcriterion\u001b[0m\u001b[0;34m,\u001b[0m \u001b[0moptimizer_vgg4\u001b[0m\u001b[0;34m,\u001b[0m \u001b[0mexp_lr_scheduler4\u001b[0m\u001b[0;34m,\u001b[0m \u001b[0mnum_epochs\u001b[0m\u001b[0;34m=\u001b[0m\u001b[0;36m25\u001b[0m\u001b[0;34m)\u001b[0m\u001b[0;34m\u001b[0m\u001b[0;34m\u001b[0m\u001b[0m\n\u001b[0m",
            "\u001b[0;32m<ipython-input-5-c8daabfaf720>\u001b[0m in \u001b[0;36mtrain_model\u001b[0;34m(model, criterion, optimizer, scheduler, num_epochs)\u001b[0m\n\u001b[1;32m     41\u001b[0m \u001b[0;34m\u001b[0m\u001b[0m\n\u001b[1;32m     42\u001b[0m                 \u001b[0;31m# statistics\u001b[0m\u001b[0;34m\u001b[0m\u001b[0;34m\u001b[0m\u001b[0;34m\u001b[0m\u001b[0m\n\u001b[0;32m---> 43\u001b[0;31m                 \u001b[0mrunning_loss\u001b[0m \u001b[0;34m+=\u001b[0m \u001b[0mloss\u001b[0m\u001b[0;34m.\u001b[0m\u001b[0mitem\u001b[0m\u001b[0;34m(\u001b[0m\u001b[0;34m)\u001b[0m \u001b[0;34m*\u001b[0m \u001b[0minputs\u001b[0m\u001b[0;34m.\u001b[0m\u001b[0msize\u001b[0m\u001b[0;34m(\u001b[0m\u001b[0;36m0\u001b[0m\u001b[0;34m)\u001b[0m\u001b[0;34m\u001b[0m\u001b[0;34m\u001b[0m\u001b[0m\n\u001b[0m\u001b[1;32m     44\u001b[0m                 \u001b[0mrunning_corrects\u001b[0m \u001b[0;34m+=\u001b[0m \u001b[0mtorch\u001b[0m\u001b[0;34m.\u001b[0m\u001b[0msum\u001b[0m\u001b[0;34m(\u001b[0m\u001b[0mpreds\u001b[0m \u001b[0;34m==\u001b[0m \u001b[0mlabels\u001b[0m\u001b[0;34m.\u001b[0m\u001b[0mdata\u001b[0m\u001b[0;34m)\u001b[0m\u001b[0;34m\u001b[0m\u001b[0;34m\u001b[0m\u001b[0m\n\u001b[1;32m     45\u001b[0m \u001b[0;34m\u001b[0m\u001b[0m\n",
            "\u001b[0;31mKeyboardInterrupt\u001b[0m: "
          ]
        }
      ]
    },
    {
      "metadata": {
        "id": "tYFW0DlVtPwh",
        "colab_type": "code",
        "outputId": "29221082-3ca9-4deb-e432-60dbf7bc943f",
        "colab": {
          "base_uri": "https://localhost:8080/",
          "height": 212
        }
      },
      "cell_type": "code",
      "source": [
        "visualize_model(vgg3)\n",
        "\n",
        "plt.ioff()\n",
        "plt.show()"
      ],
      "execution_count": 0,
      "outputs": [
        {
          "output_type": "error",
          "ename": "NameError",
          "evalue": "ignored",
          "traceback": [
            "\u001b[0;31m---------------------------------------------------------------------------\u001b[0m",
            "\u001b[0;31mNameError\u001b[0m                                 Traceback (most recent call last)",
            "\u001b[0;32m<ipython-input-9-c482f693ccf3>\u001b[0m in \u001b[0;36m<module>\u001b[0;34m()\u001b[0m\n\u001b[0;32m----> 1\u001b[0;31m \u001b[0mvisualize_model\u001b[0m\u001b[0;34m(\u001b[0m\u001b[0mvgg3\u001b[0m\u001b[0;34m)\u001b[0m\u001b[0;34m\u001b[0m\u001b[0;34m\u001b[0m\u001b[0m\n\u001b[0m\u001b[1;32m      2\u001b[0m \u001b[0;34m\u001b[0m\u001b[0m\n\u001b[1;32m      3\u001b[0m \u001b[0mplt\u001b[0m\u001b[0;34m.\u001b[0m\u001b[0mioff\u001b[0m\u001b[0;34m(\u001b[0m\u001b[0;34m)\u001b[0m\u001b[0;34m\u001b[0m\u001b[0;34m\u001b[0m\u001b[0m\n\u001b[1;32m      4\u001b[0m \u001b[0mplt\u001b[0m\u001b[0;34m.\u001b[0m\u001b[0mshow\u001b[0m\u001b[0;34m(\u001b[0m\u001b[0;34m)\u001b[0m\u001b[0;34m\u001b[0m\u001b[0;34m\u001b[0m\u001b[0m\n",
            "\u001b[0;31mNameError\u001b[0m: name 'vgg3' is not defined"
          ]
        }
      ]
    },
    {
      "metadata": {
        "id": "ejkjqP3CtPye",
        "colab_type": "code",
        "colab": {}
      },
      "cell_type": "code",
      "source": [
        "vgg5 = models.vgg16(pretrained=True)\n",
        "for param in vgg5.parameters():\n",
        "    param.requires_grad = False\n",
        "\n",
        "# Parameters of newly constructed modules have requires_grad=True by default\n",
        "\n",
        "\n",
        "vgg5.classifier = nn.Sequential(\n",
        "                        nn.Linear(25088, 10000), #fully connected layer; input_size = 25088; output_size = 2\n",
        "                        nn.ReLU(), #ReLU activation\n",
        "                        nn.Linear(10000, 2000),\n",
        "                        nn.ReLU(), #ReLU activation\n",
        "                        nn.Linear(2000, 200),\n",
        "                        nn.ReLU(), #ReLU activation\n",
        "                        nn.Linear(200, 2)) # log softmax to produce a probability \n",
        "                        \n",
        "\n",
        "                \n",
        "vgg5 = vgg5.to(device)\n",
        "\n",
        "criterion = nn.CrossEntropyLoss()\n",
        "\n",
        "# Observe that only parameters of final layer are being optimized as\n",
        "# opposed to before.\n",
        "optimizer_vgg5 = optim.SGD(vgg5.classifier.parameters(), lr=0.01, momentum=0.9)\n",
        "\n",
        "# Decay LR by a factor of 0.1 every 7 epochs\n",
        "exp_lr_scheduler5 = lr_scheduler.StepLR(optimizer_vgg5, step_size=7, gamma=0.1)"
      ],
      "execution_count": 0,
      "outputs": []
    },
    {
      "metadata": {
        "id": "0E-zwIwftP0w",
        "colab_type": "code",
        "outputId": "87c019da-ba79-4954-eaf4-0c276ad78c0a",
        "colab": {
          "base_uri": "https://localhost:8080/",
          "height": 162
        }
      },
      "cell_type": "code",
      "source": [
        "train_model(vgg5, criterion, optimizer_vgg5, exp_lr_scheduler5, num_epochs=25)"
      ],
      "execution_count": 0,
      "outputs": [
        {
          "output_type": "error",
          "ename": "NameError",
          "evalue": "ignored",
          "traceback": [
            "\u001b[0;31m---------------------------------------------------------------------------\u001b[0m",
            "\u001b[0;31mNameError\u001b[0m                                 Traceback (most recent call last)",
            "\u001b[0;32m<ipython-input-1-2a8f4355cca0>\u001b[0m in \u001b[0;36m<module>\u001b[0;34m()\u001b[0m\n\u001b[0;32m----> 1\u001b[0;31m \u001b[0mtrain_model\u001b[0m\u001b[0;34m(\u001b[0m\u001b[0mvgg5\u001b[0m\u001b[0;34m,\u001b[0m \u001b[0mcriterion\u001b[0m\u001b[0;34m,\u001b[0m \u001b[0moptimizer_vgg5\u001b[0m\u001b[0;34m,\u001b[0m \u001b[0mexp_lr_scheduler5\u001b[0m\u001b[0;34m,\u001b[0m \u001b[0mnum_epochs\u001b[0m\u001b[0;34m=\u001b[0m\u001b[0;36m25\u001b[0m\u001b[0;34m)\u001b[0m\u001b[0;34m\u001b[0m\u001b[0;34m\u001b[0m\u001b[0m\n\u001b[0m",
            "\u001b[0;31mNameError\u001b[0m: name 'train_model' is not defined"
          ]
        }
      ]
    },
    {
      "metadata": {
        "id": "KIo6ka1ttP3H",
        "colab_type": "code",
        "colab": {}
      },
      "cell_type": "code",
      "source": [
        "vgg5 = models.vgg16(pretrained=True)\n",
        "for param in vgg5.parameters():\n",
        "    param.requires_grad = False\n",
        "\n",
        "# Parameters of newly constructed modules have requires_grad=True by default\n",
        "\n",
        "\n",
        "vgg5.classifier = nn.Sequential(\n",
        "                        nn.Linear(25088, 10000), #fully connected layer; input_size = 25088; output_size = 2\n",
        "                        nn.ReLU(), #ReLU activation\n",
        "                        nn.Linear(10000, 2000),\n",
        "                        nn.ReLU(), #ReLU activation\n",
        "                        nn.Linear(2000, 200),\n",
        "                        nn.ReLU(), #ReLU activation\n",
        "                        nn.Linear(200, 2)) # log softmax to produce a probability \n",
        "                        \n",
        "\n",
        "                \n",
        "vgg5 = vgg5.to(device)\n",
        "\n",
        "criterion = nn.CrossEntropyLoss()\n",
        "\n",
        "# Observe that only parameters of final layer are being optimized as\n",
        "# opposed to before.\n",
        "optimizer_vgg5 = optim.SGD(vgg5.classifier.parameters(), lr=0.01, momentum=0.9)\n",
        "\n",
        "# Decay LR by a factor of 0.1 every 7 epochs\n",
        "exp_lr_scheduler5 = lr_scheduler.StepLR(optimizer_vgg5, step_size=7, gamma=0.1)"
      ],
      "execution_count": 0,
      "outputs": []
    },
    {
      "metadata": {
        "id": "wIignR0DtP5e",
        "colab_type": "code",
        "colab": {}
      },
      "cell_type": "code",
      "source": [
        "import torch.nn.functional as F"
      ],
      "execution_count": 0,
      "outputs": []
    },
    {
      "metadata": {
        "id": "89FXeqpGtP7w",
        "colab_type": "code",
        "colab": {}
      },
      "cell_type": "code",
      "source": [
        "//TRY CONVO AND FC YOUJR OWN IMPLEMENTATION"
      ],
      "execution_count": 0,
      "outputs": []
    },
    {
      "metadata": {
        "id": "kzA18lnNRbQO",
        "colab_type": "code",
        "colab": {}
      },
      "cell_type": "code",
      "source": [
        "class LinearNet(nn.Module):\n",
        "    def __init__(self):\n",
        "        super(LinearNet, self).__init__()\n",
        "        self.name = \"linear1\"\n",
        "        self.layer1 = nn.Linear(224 * 224 *3, 1000)\n",
        "        self.layer2 = nn.Linear(1000, 200)\n",
        "        self.layer3 = nn.Linear(200, 20)\n",
        "        self.layer4 = nn.Linear(20, 2)\n",
        "    def forward(self, img):\n",
        "        flattened = img.view(-1, 224 * 224 *3)\n",
        "        activation1 = F.relu(self.layer1(flattened))\n",
        "        activation2 = F.relu(self.layer2(activation1))\n",
        "        activation3 = F.relu(self.layer3(activation2))\n",
        "        output = self.layer4(activation3)\n",
        "        return output"
      ],
      "execution_count": 0,
      "outputs": []
    },
    {
      "metadata": {
        "id": "I0MMcHEJRbTW",
        "colab_type": "code",
        "colab": {}
      },
      "cell_type": "code",
      "source": [
        "linear1 = LinearNet()"
      ],
      "execution_count": 0,
      "outputs": []
    },
    {
      "metadata": {
        "id": "vX-tQTdLRbVd",
        "colab_type": "code",
        "colab": {}
      },
      "cell_type": "code",
      "source": [
        "linear1 = linear1.to(device)\n",
        "\n",
        "criterion = nn.CrossEntropyLoss()\n",
        "\n",
        "optimizer_lin = optim.SGD(linear1.parameters(), lr=0.001, momentum=0.9)\n",
        "\n",
        "# Decay LR by a factor of 0.1 every 7 epochs\n",
        "exp_lr_scheduler_lin = lr_scheduler.StepLR(optimizer_lin, step_size=7, gamma=0.1)"
      ],
      "execution_count": 0,
      "outputs": []
    },
    {
      "metadata": {
        "id": "ow6beqkESn_V",
        "colab_type": "code",
        "colab": {}
      },
      "cell_type": "code",
      "source": [
        ""
      ],
      "execution_count": 0,
      "outputs": []
    },
    {
      "metadata": {
        "id": "o7Rv-S0cRbY9",
        "colab_type": "code",
        "outputId": "67d29e22-9625-44a5-ac47-93f1ba05c2a2",
        "colab": {
          "base_uri": "https://localhost:8080/",
          "height": 2245
        }
      },
      "cell_type": "code",
      "source": [
        "train_model(linear1, criterion, optimizer_lin, exp_lr_scheduler_lin, num_epochs=25)"
      ],
      "execution_count": 0,
      "outputs": [
        {
          "output_type": "stream",
          "text": [
            "Epoch 0/24\n",
            "----------\n",
            "train Loss: 0.6787 Acc: 0.5884\n",
            "validation Loss: 0.6762 Acc: 0.6073\n",
            "\n",
            "Epoch 1/24\n",
            "----------\n",
            "train Loss: 0.6710 Acc: 0.5962\n",
            "validation Loss: 0.6716 Acc: 0.5707\n",
            "\n",
            "Epoch 2/24\n",
            "----------\n",
            "train Loss: 0.6630 Acc: 0.5971\n",
            "validation Loss: 0.6804 Acc: 0.5707\n",
            "\n",
            "Epoch 3/24\n",
            "----------\n",
            "train Loss: 0.6576 Acc: 0.6002\n",
            "validation Loss: 0.6988 Acc: 0.5689\n",
            "\n",
            "Epoch 4/24\n",
            "----------\n",
            "train Loss: 0.6566 Acc: 0.6076\n",
            "validation Loss: 0.6506 Acc: 0.5951\n",
            "\n",
            "Epoch 5/24\n",
            "----------\n",
            "train Loss: 0.6580 Acc: 0.6045\n",
            "validation Loss: 0.6537 Acc: 0.5934\n",
            "\n",
            "Epoch 6/24\n",
            "----------\n",
            "train Loss: 0.6506 Acc: 0.6189\n",
            "validation Loss: 0.6739 Acc: 0.5707\n",
            "\n",
            "Epoch 7/24\n",
            "----------\n",
            "train Loss: 0.6432 Acc: 0.6220\n",
            "validation Loss: 0.6386 Acc: 0.6091\n",
            "\n",
            "Epoch 8/24\n",
            "----------\n",
            "train Loss: 0.6381 Acc: 0.6285\n",
            "validation Loss: 0.6377 Acc: 0.6108\n",
            "\n",
            "Epoch 9/24\n",
            "----------\n",
            "train Loss: 0.6378 Acc: 0.6333\n",
            "validation Loss: 0.6361 Acc: 0.6126\n",
            "\n",
            "Epoch 10/24\n",
            "----------\n",
            "train Loss: 0.6366 Acc: 0.6229\n",
            "validation Loss: 0.6348 Acc: 0.6091\n",
            "\n",
            "Epoch 11/24\n",
            "----------\n",
            "train Loss: 0.6359 Acc: 0.6325\n",
            "validation Loss: 0.6341 Acc: 0.6038\n",
            "\n",
            "Epoch 12/24\n",
            "----------\n",
            "train Loss: 0.6348 Acc: 0.6242\n",
            "validation Loss: 0.6397 Acc: 0.6195\n",
            "\n",
            "Epoch 13/24\n",
            "----------\n",
            "train Loss: 0.6352 Acc: 0.6281\n",
            "validation Loss: 0.6349 Acc: 0.6178\n",
            "\n",
            "Epoch 14/24\n",
            "----------\n",
            "train Loss: 0.6327 Acc: 0.6377\n",
            "validation Loss: 0.6333 Acc: 0.6091\n",
            "\n",
            "Epoch 15/24\n",
            "----------\n",
            "train Loss: 0.6325 Acc: 0.6395\n",
            "validation Loss: 0.6328 Acc: 0.6038\n",
            "\n",
            "Epoch 16/24\n",
            "----------\n",
            "train Loss: 0.6323 Acc: 0.6386\n",
            "validation Loss: 0.6326 Acc: 0.6021\n",
            "\n",
            "Epoch 17/24\n",
            "----------\n",
            "train Loss: 0.6322 Acc: 0.6399\n",
            "validation Loss: 0.6326 Acc: 0.6021\n",
            "\n",
            "Epoch 18/24\n",
            "----------\n",
            "train Loss: 0.6321 Acc: 0.6399\n",
            "validation Loss: 0.6325 Acc: 0.6038\n",
            "\n",
            "Epoch 19/24\n",
            "----------\n",
            "train Loss: 0.6320 Acc: 0.6408\n",
            "validation Loss: 0.6322 Acc: 0.6073\n",
            "\n",
            "Epoch 20/24\n",
            "----------\n",
            "train Loss: 0.6319 Acc: 0.6377\n",
            "validation Loss: 0.6323 Acc: 0.6056\n",
            "\n",
            "Epoch 21/24\n",
            "----------\n",
            "train Loss: 0.6316 Acc: 0.6390\n",
            "validation Loss: 0.6323 Acc: 0.6056\n",
            "\n",
            "Epoch 22/24\n",
            "----------\n",
            "train Loss: 0.6316 Acc: 0.6386\n",
            "validation Loss: 0.6323 Acc: 0.6056\n",
            "\n",
            "Epoch 23/24\n",
            "----------\n"
          ],
          "name": "stdout"
        },
        {
          "output_type": "error",
          "ename": "KeyboardInterrupt",
          "evalue": "ignored",
          "traceback": [
            "\u001b[0;31m---------------------------------------------------------------------------\u001b[0m",
            "\u001b[0;31mKeyboardInterrupt\u001b[0m                         Traceback (most recent call last)",
            "\u001b[0;32m<ipython-input-11-2cbf2db143fa>\u001b[0m in \u001b[0;36m<module>\u001b[0;34m()\u001b[0m\n\u001b[0;32m----> 1\u001b[0;31m \u001b[0mtrain_model\u001b[0m\u001b[0;34m(\u001b[0m\u001b[0mlinear1\u001b[0m\u001b[0;34m,\u001b[0m \u001b[0mcriterion\u001b[0m\u001b[0;34m,\u001b[0m \u001b[0moptimizer_lin\u001b[0m\u001b[0;34m,\u001b[0m \u001b[0mexp_lr_scheduler_lin\u001b[0m\u001b[0;34m,\u001b[0m \u001b[0mnum_epochs\u001b[0m\u001b[0;34m=\u001b[0m\u001b[0;36m25\u001b[0m\u001b[0;34m)\u001b[0m\u001b[0;34m\u001b[0m\u001b[0;34m\u001b[0m\u001b[0m\n\u001b[0m",
            "\u001b[0;32m<ipython-input-5-c8daabfaf720>\u001b[0m in \u001b[0;36mtrain_model\u001b[0;34m(model, criterion, optimizer, scheduler, num_epochs)\u001b[0m\n\u001b[1;32m     41\u001b[0m \u001b[0;34m\u001b[0m\u001b[0m\n\u001b[1;32m     42\u001b[0m                 \u001b[0;31m# statistics\u001b[0m\u001b[0;34m\u001b[0m\u001b[0;34m\u001b[0m\u001b[0;34m\u001b[0m\u001b[0m\n\u001b[0;32m---> 43\u001b[0;31m                 \u001b[0mrunning_loss\u001b[0m \u001b[0;34m+=\u001b[0m \u001b[0mloss\u001b[0m\u001b[0;34m.\u001b[0m\u001b[0mitem\u001b[0m\u001b[0;34m(\u001b[0m\u001b[0;34m)\u001b[0m \u001b[0;34m*\u001b[0m \u001b[0minputs\u001b[0m\u001b[0;34m.\u001b[0m\u001b[0msize\u001b[0m\u001b[0;34m(\u001b[0m\u001b[0;36m0\u001b[0m\u001b[0;34m)\u001b[0m\u001b[0;34m\u001b[0m\u001b[0;34m\u001b[0m\u001b[0m\n\u001b[0m\u001b[1;32m     44\u001b[0m                 \u001b[0mrunning_corrects\u001b[0m \u001b[0;34m+=\u001b[0m \u001b[0mtorch\u001b[0m\u001b[0;34m.\u001b[0m\u001b[0msum\u001b[0m\u001b[0;34m(\u001b[0m\u001b[0mpreds\u001b[0m \u001b[0;34m==\u001b[0m \u001b[0mlabels\u001b[0m\u001b[0;34m.\u001b[0m\u001b[0mdata\u001b[0m\u001b[0;34m)\u001b[0m\u001b[0;34m\u001b[0m\u001b[0;34m\u001b[0m\u001b[0m\n\u001b[1;32m     45\u001b[0m \u001b[0;34m\u001b[0m\u001b[0m\n",
            "\u001b[0;31mKeyboardInterrupt\u001b[0m: "
          ]
        }
      ]
    },
    {
      "metadata": {
        "id": "Yxsp0gyGTKnN",
        "colab_type": "code",
        "colab": {}
      },
      "cell_type": "code",
      "source": [
        "class LinearNet2(nn.Module):\n",
        "    def __init__(self):\n",
        "        super(LinearNet2, self).__init__()\n",
        "        self.name = \"linear2\"\n",
        "        self.layer1 = nn.Linear(224 * 224 *3, 50000)\n",
        "        self.layer2 = nn.Linear(50000, 5000)\n",
        "        self.layer3 = nn.Linear(5000, 500)\n",
        "        self.layer4 = nn.Linear(500, 50)\n",
        "        self.layer5 = nn.Linear(50, 2)\n",
        "    def forward(self, img):\n",
        "        flattened = img.view(-1, 224 * 224 *3)\n",
        "        activation1 = F.relu(self.layer1(flattened))\n",
        "        activation2 = F.relu(self.layer2(activation1))\n",
        "        activation3 = F.relu(self.layer3(activation2))\n",
        "        activation4 = F.relu(self.layer3(activation3))\n",
        "        output = self.layer5(activation4)\n",
        "        return output"
      ],
      "execution_count": 0,
      "outputs": []
    },
    {
      "metadata": {
        "id": "sHkcyFVWTKpi",
        "colab_type": "code",
        "colab": {}
      },
      "cell_type": "code",
      "source": [
        "linear2 = LinearNet2()\n",
        "linear2 = linear2.to(device)\n",
        "\n",
        "criterion = nn.CrossEntropyLoss()\n",
        "\n",
        "optimizer_lin2 = optim.SGD(linear2.parameters(), lr=0.001, momentum=0.9)\n",
        "\n",
        "# Decay LR by a factor of 0.1 every 7 epochs\n",
        "exp_lr_scheduler_lin2 = lr_scheduler.StepLR(optimizer_lin2, step_size=7, gamma=0.1)"
      ],
      "execution_count": 0,
      "outputs": []
    },
    {
      "metadata": {
        "id": "oGyVidzyTKr9",
        "colab_type": "code",
        "colab": {}
      },
      "cell_type": "code",
      "source": [
        "train_model(linear2, criterion, optimizer_lin2, exp_lr_scheduler_lin2, num_epochs=25)"
      ],
      "execution_count": 0,
      "outputs": []
    },
    {
      "metadata": {
        "id": "GiNVmTO8TAFU",
        "colab_type": "code",
        "colab": {}
      },
      "cell_type": "code",
      "source": [
        "class CNNet2(nn.Module):\n",
        "    def __init__(self):\n",
        "        super(CNNet2, self).__init__()\n",
        "        self.name = \"cnn2\"\n",
        "        self.conv1 = nn.Conv2d(3, 5, 5)\n",
        "        self.pool = nn.MaxPool2d(2, 2)\n",
        "        self.fc1 = nn.Linear(5 * 110 * 110, 200)\n",
        "        self.fc2 = nn.Linear(200, 75)\n",
        "        self.fc3 = nn.Linear(75, 30)\n",
        "        self.fc4 = nn.Linear(30, 9)\n",
        "\n",
        "    def forward(self, x):\n",
        "        x = self.pool(F.relu(self.conv1(x)))\n",
        "        #print (x.shape)\n",
        "        x = x.view(-1, 5 * 110 * 110)\n",
        "        #print (x.shape)\n",
        "        x = F.relu(self.fc1(x))\n",
        "        #print (x.shape)\n",
        "        x = F.relu(self.fc2(x))\n",
        "        #print (x.shape)\n",
        "        x = F.relu(self.fc3(x))\n",
        "        #print (x.shape)\n",
        "        x = self.fc4(x)\n",
        "        #print (x.shape)\n",
        "        x = x.squeeze(1) # Flatten to [batch_size]\n",
        "        #print (x.shape)\n",
        "        return x"
      ],
      "execution_count": 0,
      "outputs": []
    },
    {
      "metadata": {
        "id": "vz-iDyO4TAIT",
        "colab_type": "code",
        "colab": {}
      },
      "cell_type": "code",
      "source": [
        "cnn2 = CNNet2()\n",
        "cnn2 = cnn2.to(device)\n",
        "\n",
        "criterion = nn.CrossEntropyLoss()\n",
        "\n",
        "optimizer_cnn2 = optim.SGD(cnn2.parameters(), lr=0.001, momentum=0.9)\n",
        "\n",
        "# Decay LR by a factor of 0.1 every 7 epochs\n",
        "exp_lr_scheduler_cnn2 = lr_scheduler.StepLR(optimizer_cnn2, step_size=7, gamma=0.1)"
      ],
      "execution_count": 0,
      "outputs": []
    },
    {
      "metadata": {
        "id": "Iu6OucGRTAL1",
        "colab_type": "code",
        "outputId": "f699c911-2ac7-4e5a-cb77-8418cbb26251",
        "colab": {
          "base_uri": "https://localhost:8080/",
          "height": 2285
        }
      },
      "cell_type": "code",
      "source": [
        "train_model(cnn2, criterion, optimizer_cnn2, exp_lr_scheduler_cnn2, num_epochs=25)"
      ],
      "execution_count": 0,
      "outputs": [
        {
          "output_type": "stream",
          "text": [
            "Epoch 0/24\n",
            "----------\n",
            "train Loss: 0.9306 Acc: 0.5692\n",
            "validation Loss: 0.6826 Acc: 0.5707\n",
            "\n",
            "Epoch 1/24\n",
            "----------\n",
            "train Loss: 0.7022 Acc: 0.5618\n",
            "validation Loss: 0.6984 Acc: 0.5271\n",
            "\n",
            "Epoch 2/24\n",
            "----------\n",
            "train Loss: 0.6944 Acc: 0.5823\n",
            "validation Loss: 0.6909 Acc: 0.5707\n",
            "\n",
            "Epoch 3/24\n",
            "----------\n",
            "train Loss: 0.6859 Acc: 0.5814\n",
            "validation Loss: 0.7033 Acc: 0.5707\n",
            "\n",
            "Epoch 4/24\n",
            "----------\n",
            "train Loss: 0.6836 Acc: 0.5823\n",
            "validation Loss: 0.6785 Acc: 0.5829\n",
            "\n",
            "Epoch 5/24\n",
            "----------\n",
            "train Loss: 0.6796 Acc: 0.5853\n",
            "validation Loss: 0.7027 Acc: 0.5707\n",
            "\n",
            "Epoch 6/24\n",
            "----------\n",
            "train Loss: 0.6780 Acc: 0.5845\n",
            "validation Loss: 0.6628 Acc: 0.6108\n",
            "\n",
            "Epoch 7/24\n",
            "----------\n",
            "train Loss: 0.6546 Acc: 0.6211\n",
            "validation Loss: 0.6588 Acc: 0.5899\n",
            "\n",
            "Epoch 8/24\n",
            "----------\n",
            "train Loss: 0.6513 Acc: 0.6233\n",
            "validation Loss: 0.6635 Acc: 0.5777\n",
            "\n",
            "Epoch 9/24\n",
            "----------\n",
            "train Loss: 0.6512 Acc: 0.6159\n",
            "validation Loss: 0.6494 Acc: 0.6021\n",
            "\n",
            "Epoch 10/24\n",
            "----------\n",
            "train Loss: 0.6508 Acc: 0.6150\n",
            "validation Loss: 0.6556 Acc: 0.5934\n",
            "\n",
            "Epoch 11/24\n",
            "----------\n",
            "train Loss: 0.6491 Acc: 0.6189\n",
            "validation Loss: 0.6485 Acc: 0.6021\n",
            "\n",
            "Epoch 12/24\n",
            "----------\n",
            "train Loss: 0.6483 Acc: 0.6207\n",
            "validation Loss: 0.6455 Acc: 0.6126\n",
            "\n",
            "Epoch 13/24\n",
            "----------\n",
            "train Loss: 0.6484 Acc: 0.6189\n",
            "validation Loss: 0.6444 Acc: 0.6178\n",
            "\n",
            "Epoch 14/24\n",
            "----------\n",
            "train Loss: 0.6435 Acc: 0.6264\n",
            "validation Loss: 0.6458 Acc: 0.6038\n",
            "\n",
            "Epoch 15/24\n",
            "----------\n",
            "train Loss: 0.6432 Acc: 0.6237\n",
            "validation Loss: 0.6443 Acc: 0.6143\n",
            "\n",
            "Epoch 16/24\n",
            "----------\n",
            "train Loss: 0.6431 Acc: 0.6242\n",
            "validation Loss: 0.6446 Acc: 0.6091\n",
            "\n",
            "Epoch 17/24\n",
            "----------\n",
            "train Loss: 0.6431 Acc: 0.6255\n",
            "validation Loss: 0.6438 Acc: 0.6091\n",
            "\n",
            "Epoch 18/24\n",
            "----------\n",
            "train Loss: 0.6429 Acc: 0.6255\n",
            "validation Loss: 0.6453 Acc: 0.6056\n",
            "\n",
            "Epoch 19/24\n",
            "----------\n",
            "train Loss: 0.6430 Acc: 0.6259\n",
            "validation Loss: 0.6435 Acc: 0.6126\n",
            "\n",
            "Epoch 20/24\n",
            "----------\n",
            "train Loss: 0.6426 Acc: 0.6242\n",
            "validation Loss: 0.6449 Acc: 0.6073\n",
            "\n",
            "Epoch 21/24\n",
            "----------\n",
            "train Loss: 0.6421 Acc: 0.6237\n",
            "validation Loss: 0.6446 Acc: 0.6143\n",
            "\n",
            "Epoch 22/24\n",
            "----------\n",
            "train Loss: 0.6421 Acc: 0.6255\n",
            "validation Loss: 0.6444 Acc: 0.6091\n",
            "\n",
            "Epoch 23/24\n",
            "----------\n",
            "train Loss: 0.6421 Acc: 0.6237\n",
            "validation Loss: 0.6441 Acc: 0.6091\n",
            "\n",
            "Epoch 24/24\n",
            "----------\n",
            "train Loss: 0.6420 Acc: 0.6255\n",
            "validation Loss: 0.6442 Acc: 0.6073\n",
            "\n",
            "Training complete in 7m 3s\n",
            "Best val Acc: 0.000000\n"
          ],
          "name": "stdout"
        },
        {
          "output_type": "execute_result",
          "data": {
            "text/plain": [
              "CNNet2(\n",
              "  (conv1): Conv2d(3, 5, kernel_size=(5, 5), stride=(1, 1))\n",
              "  (pool): MaxPool2d(kernel_size=2, stride=2, padding=0, dilation=1, ceil_mode=False)\n",
              "  (fc1): Linear(in_features=60500, out_features=200, bias=True)\n",
              "  (fc2): Linear(in_features=200, out_features=75, bias=True)\n",
              "  (fc3): Linear(in_features=75, out_features=30, bias=True)\n",
              "  (fc4): Linear(in_features=30, out_features=9, bias=True)\n",
              ")"
            ]
          },
          "metadata": {
            "tags": []
          },
          "execution_count": 13
        }
      ]
    }
  ]
}